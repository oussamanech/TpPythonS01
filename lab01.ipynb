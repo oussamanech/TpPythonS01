{
 "cells": [
  {
   "cell_type": "code",
   "execution_count": 19,
   "metadata": {},
   "outputs": [
    {
     "name": "stdout",
     "output_type": "stream",
     "text": [
      "модели :  Hyundai Venue \n",
      "мощности :  170 \n",
      "года выпуска :  2010 \n",
      "цвета :  белая\n"
     ]
    }
   ],
   "source": [
    "class Car:\n",
    "    def __init__(self, model , power, yofm , color ):\n",
    "        self._model= model\n",
    "        self._power= power\n",
    "        self._yearofmanufacture = yofm\n",
    "        self._color= color\n",
    "    \n",
    "    # property\n",
    "    def model(self):\n",
    "        return self._model\n",
    "    def power(self):\n",
    "        return self._power\n",
    "    def yearofmanufacture(self):\n",
    "        return self._yearofmanufacture\n",
    "    def color(self):\n",
    "        return self._color\n",
    "  \n",
    "    # Setter\n",
    "    def model(self, m):\n",
    "        self._model = m\n",
    "    def power(self, p):\n",
    "        self._power = p\n",
    "    def yearofmanufacture(self, y):\n",
    "        self._yearofmanufacture = y\n",
    "    def color(self, c):\n",
    "        self._color = c\n",
    "    \n",
    "    def toString(self):\n",
    "        print(\"модели : \",self._model,\n",
    "              \"\\nмощности : \",self._power,\n",
    "              \"\\nгода выпуска : \",self._yearofmanufacture,\n",
    "              \"\\nцвета : \",self._color)\n",
    "    \n",
    "def main():\n",
    "    mycar = Car(\"Hyundai Venue\",170,2010,\"белая\")\n",
    "    mycar.toString()\n",
    "    \n",
    "if __name__ == '__main__':main()\n",
    "    "
   ]
  },
  {
   "cell_type": "code",
   "execution_count": 22,
   "metadata": {},
   "outputs": [
    {
     "ename": "NameError",
     "evalue": "name 'nb' is not defined",
     "output_type": "error",
     "traceback": [
      "\u001b[1;31m---------------------------------------------------------------------------\u001b[0m",
      "\u001b[1;31mNameError\u001b[0m                                 Traceback (most recent call last)",
      "\u001b[1;32m<ipython-input-22-74a11ea0e2da>\u001b[0m in \u001b[0;36m<module>\u001b[1;34m\u001b[0m\n\u001b[1;32m----> 1\u001b[1;33m \u001b[0mnb\u001b[0m\u001b[1;33m.\u001b[0m\u001b[0mrandrange\u001b[0m\u001b[1;33m(\u001b[0m\u001b[1;36m1000\u001b[0m\u001b[1;33m,\u001b[0m\u001b[1;36m5000\u001b[0m\u001b[1;33m,\u001b[0m\u001b[1;36m1\u001b[0m\u001b[1;33m)\u001b[0m\u001b[1;33m\u001b[0m\u001b[1;33m\u001b[0m\u001b[0m\n\u001b[0m",
      "\u001b[1;31mNameError\u001b[0m: name 'nb' is not defined"
     ]
    }
   ],
   "source": []
  },
  {
   "cell_type": "code",
   "execution_count": null,
   "metadata": {},
   "outputs": [],
   "source": []
  }
 ],
 "metadata": {
  "kernelspec": {
   "display_name": "Python 3",
   "language": "python",
   "name": "python3"
  },
  "language_info": {
   "codemirror_mode": {
    "name": "ipython",
    "version": 3
   },
   "file_extension": ".py",
   "mimetype": "text/x-python",
   "name": "python",
   "nbconvert_exporter": "python",
   "pygments_lexer": "ipython3",
   "version": "3.8.3"
  }
 },
 "nbformat": 4,
 "nbformat_minor": 4
}
